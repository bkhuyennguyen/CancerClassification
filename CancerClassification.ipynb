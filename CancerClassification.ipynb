{
  "nbformat": 4,
  "nbformat_minor": 0,
  "metadata": {
    "colab": {
      "provenance": [],
      "authorship_tag": "ABX9TyNJ+B7/ZEowf4xI0jbba6J/",
      "include_colab_link": true
    },
    "kernelspec": {
      "name": "python3",
      "display_name": "Python 3"
    },
    "language_info": {
      "name": "python"
    }
  },
  "cells": [
    {
      "cell_type": "markdown",
      "metadata": {
        "id": "view-in-github",
        "colab_type": "text"
      },
      "source": [
        "<a href=\"https://colab.research.google.com/github/bkhuyennguyen/CancerClassification/blob/main/CancerClassification.ipynb\" target=\"_parent\"><img src=\"https://colab.research.google.com/assets/colab-badge.svg\" alt=\"Open In Colab\"/></a>"
      ]
    },
    {
      "cell_type": "markdown",
      "source": [
        "Cancer Classification using Neural Networks"
      ],
      "metadata": {
        "id": "9yydKL1Guwre"
      }
    },
    {
      "cell_type": "code",
      "execution_count": null,
      "metadata": {
        "id": "kDzwNx0Gue4a"
      },
      "outputs": [],
      "source": [
        "import numpy as np                                                # math operations in python + matrices and arrays\n",
        "import pandas as pd                                               # data manipulation and analysis + new data structures\n",
        "import matplotlib.pyplot as plt                                   # =plotting\n",
        "# from library import function\n",
        "from sklearn.datasets import fetch_california_housing             # training and learning for machine learning models\n",
        "from sklearn.model_selection import train_test_split                     # train test split for machine learning\n",
        "from sklearn.datasets import load_iris\n"
      ]
    }
  ]
}